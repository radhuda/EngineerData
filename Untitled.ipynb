{
 "cells": [
  {
   "cell_type": "code",
   "execution_count": 1,
   "metadata": {},
   "outputs": [],
   "source": [
    "import pyspark\n",
    "from pyspark.sql import SparkSession, SQLContext"
   ]
  },
  {
   "cell_type": "code",
   "execution_count": 2,
   "metadata": {},
   "outputs": [],
   "source": [
    "sc = pyspark.SparkContext(appName='try')\n",
    "spark = SparkSession.builder.getOrCreate()"
   ]
  },
  {
   "cell_type": "code",
   "execution_count": 3,
   "metadata": {},
   "outputs": [],
   "source": [
    "table = spark.read.option('header','true').format('csv').option('delimiter', '\\t').load('AAAELP.xaa.db2')"
   ]
  },
  {
   "cell_type": "code",
   "execution_count": 5,
   "metadata": {},
   "outputs": [
    {
     "name": "stdout",
     "output_type": "stream",
     "text": [
      "+------------------------------------------------------------------------------+\n",
      "|M ZINC000085167628      none  26  26    446    240     79      7      5     14|\n",
      "+------------------------------------------------------------------------------+\n",
      "|                                                          M   +2.0000   -10...|\n",
      "|                                                          M CN1C=[NH+]C=C1C...|\n",
      "|                                                          M NO_LONG_NAME   ...|\n",
      "|                                                                  M  +999.9990|\n",
      "|                                                          A   1 C1   C.3   ...|\n",
      "|                                                          A   2 N1   N.pl3 ...|\n",
      "|                                                          A   3 C2   C.cat ...|\n",
      "|                                                          A   4 N2   N.pl3 ...|\n",
      "|                                                          A   5 H1   H     ...|\n",
      "|                                                          A   6 C3   C.2   ...|\n",
      "|                                                          A   7 C4   C.2   ...|\n",
      "|                                                          A   8 C5   C.3   ...|\n",
      "|                                                          A   9 N3   N.4   ...|\n",
      "|                                                          A  10 H2   H     ...|\n",
      "|                                                          A  11 H3   H     ...|\n",
      "|                                                          A  12 C6   C.3   ...|\n",
      "|                                                          A  13 C7   C.2   ...|\n",
      "|                                                          A  14 N4   N.am  ...|\n",
      "|                                                          A  15 O1   O.2   ...|\n",
      "|                                                          A  16 H4   H     ...|\n",
      "+------------------------------------------------------------------------------+\n",
      "only showing top 20 rows\n",
      "\n"
     ]
    }
   ],
   "source": [
    "table.show()"
   ]
  },
  {
   "cell_type": "code",
   "execution_count": null,
   "metadata": {},
   "outputs": [],
   "source": []
  }
 ],
 "metadata": {
  "kernelspec": {
   "display_name": "Python 3",
   "language": "python",
   "name": "python3"
  },
  "language_info": {
   "codemirror_mode": {
    "name": "ipython",
    "version": 3
   },
   "file_extension": ".py",
   "mimetype": "text/x-python",
   "name": "python",
   "nbconvert_exporter": "python",
   "pygments_lexer": "ipython3",
   "version": "3.7.0"
  }
 },
 "nbformat": 4,
 "nbformat_minor": 2
}
